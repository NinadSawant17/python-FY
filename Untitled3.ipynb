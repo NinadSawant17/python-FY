{
 "cells": [
  {
   "cell_type": "code",
   "execution_count": 1,
   "id": "bd868125-4c99-4115-bacc-4ce4bd73042c",
   "metadata": {},
   "outputs": [],
   "source": [
    "name=\"Ninad Sawant\""
   ]
  },
  {
   "cell_type": "code",
   "execution_count": 3,
   "id": "c1aff77e-8ace-4028-956c-354d2df4dfbe",
   "metadata": {},
   "outputs": [
    {
     "data": {
      "text/plain": [
       "'Ninad Sa'"
      ]
     },
     "execution_count": 3,
     "metadata": {},
     "output_type": "execute_result"
    }
   ],
   "source": [
    "name[0:8]"
   ]
  },
  {
   "cell_type": "code",
   "execution_count": 5,
   "id": "133bb4ef-1014-46eb-9132-f0c3b887bb19",
   "metadata": {},
   "outputs": [
    {
     "data": {
      "text/plain": [
       "'Ninad Sawant'"
      ]
     },
     "execution_count": 5,
     "metadata": {},
     "output_type": "execute_result"
    }
   ],
   "source": [
    "name[0:12]"
   ]
  },
  {
   "cell_type": "code",
   "execution_count": 7,
   "id": "677a4280-46a7-497d-8309-7deaa4533bb9",
   "metadata": {},
   "outputs": [
    {
     "data": {
      "text/plain": [
       "'nad Sawant'"
      ]
     },
     "execution_count": 7,
     "metadata": {},
     "output_type": "execute_result"
    }
   ],
   "source": [
    "name[2:90]"
   ]
  },
  {
   "cell_type": "code",
   "execution_count": 9,
   "id": "cbb7bfdf-0129-478f-a39b-51374ad43b19",
   "metadata": {},
   "outputs": [
    {
     "data": {
      "text/plain": [
       "''"
      ]
     },
     "execution_count": 9,
     "metadata": {},
     "output_type": "execute_result"
    }
   ],
   "source": [
    "name[90:2]"
   ]
  },
  {
   "cell_type": "code",
   "execution_count": 13,
   "id": "876a18ba-2f75-42b2-b26b-df48ec47577c",
   "metadata": {},
   "outputs": [
    {
     "data": {
      "text/plain": [
       "''"
      ]
     },
     "execution_count": 13,
     "metadata": {},
     "output_type": "execute_result"
    }
   ],
   "source": [
    "name[12:2]"
   ]
  },
  {
   "cell_type": "code",
   "execution_count": 15,
   "id": "321c58d4-2b6e-4feb-8292-cf0974da77e1",
   "metadata": {},
   "outputs": [
    {
     "data": {
      "text/plain": [
       "'ndSwn'"
      ]
     },
     "execution_count": 15,
     "metadata": {},
     "output_type": "execute_result"
    }
   ],
   "source": [
    "name[2:90:2]"
   ]
  },
  {
   "cell_type": "code",
   "execution_count": 18,
   "id": "5d43444f-d242-42e3-a490-7799c75fe1ce",
   "metadata": {},
   "outputs": [
    {
     "data": {
      "text/plain": [
       "'Ninad Sawant'"
      ]
     },
     "execution_count": 18,
     "metadata": {},
     "output_type": "execute_result"
    }
   ],
   "source": [
    "name[0:20]"
   ]
  },
  {
   "cell_type": "code",
   "execution_count": 30,
   "id": "bdbc1508-4b5f-4df0-a3f2-3979aea66721",
   "metadata": {},
   "outputs": [
    {
     "data": {
      "text/plain": [
       "''"
      ]
     },
     "execution_count": 30,
     "metadata": {},
     "output_type": "execute_result"
    }
   ],
   "source": [
    "name[2:2]"
   ]
  },
  {
   "cell_type": "code",
   "execution_count": 32,
   "id": "fd409f0d-d48b-4856-bc71-b94e23b4bc76",
   "metadata": {},
   "outputs": [
    {
     "data": {
      "text/plain": [
       "'a aat'"
      ]
     },
     "execution_count": 32,
     "metadata": {},
     "output_type": "execute_result"
    }
   ],
   "source": [
    "name[3:90:2]"
   ]
  },
  {
   "cell_type": "code",
   "execution_count": 34,
   "id": "2807db6d-9789-48dc-8211-dbaac96a51c4",
   "metadata": {},
   "outputs": [
    {
     "data": {
      "text/plain": [
       "'NndSwn'"
      ]
     },
     "execution_count": 34,
     "metadata": {},
     "output_type": "execute_result"
    }
   ],
   "source": [
    "name[0:15:2]"
   ]
  },
  {
   "cell_type": "code",
   "execution_count": 40,
   "id": "cc2820be-39bf-445b-b0fa-43919ea45e54",
   "metadata": {},
   "outputs": [
    {
     "data": {
      "text/plain": [
       "''"
      ]
     },
     "execution_count": 40,
     "metadata": {},
     "output_type": "execute_result"
    }
   ],
   "source": [
    "name[15:5]"
   ]
  },
  {
   "cell_type": "code",
   "execution_count": 42,
   "id": "0b244828-fb17-494a-aeb8-73444839410f",
   "metadata": {},
   "outputs": [
    {
     "data": {
      "text/plain": [
       "'tnawaS'"
      ]
     },
     "execution_count": 42,
     "metadata": {},
     "output_type": "execute_result"
    }
   ],
   "source": [
    "name[15:5:-1]"
   ]
  },
  {
   "cell_type": "code",
   "execution_count": 44,
   "id": "160d7ae8-8634-45cc-84be-37f28d4a4c4c",
   "metadata": {},
   "outputs": [
    {
     "data": {
      "text/plain": [
       "'Ninad Sawant'"
      ]
     },
     "execution_count": 44,
     "metadata": {},
     "output_type": "execute_result"
    }
   ],
   "source": [
    "name"
   ]
  },
  {
   "cell_type": "code",
   "execution_count": 46,
   "id": "7f3507bf-ebe8-4916-b98b-d8c1244b1c2a",
   "metadata": {},
   "outputs": [
    {
     "data": {
      "text/plain": [
       "'i'"
      ]
     },
     "execution_count": 46,
     "metadata": {},
     "output_type": "execute_result"
    }
   ],
   "source": [
    "name[-11]"
   ]
  },
  {
   "cell_type": "code",
   "execution_count": 48,
   "id": "e4995ef8-460b-4f2f-ab44-42c230297fe8",
   "metadata": {},
   "outputs": [
    {
     "data": {
      "text/plain": [
       "''"
      ]
     },
     "execution_count": 48,
     "metadata": {},
     "output_type": "execute_result"
    }
   ],
   "source": [
    "name[0:-12]"
   ]
  },
  {
   "cell_type": "code",
   "execution_count": 50,
   "id": "d7c3bb4f-0ca4-467f-9088-c93bb88304ae",
   "metadata": {},
   "outputs": [
    {
     "data": {
      "text/plain": [
       "''"
      ]
     },
     "execution_count": 50,
     "metadata": {},
     "output_type": "execute_result"
    }
   ],
   "source": [
    "name[1:-11]"
   ]
  },
  {
   "cell_type": "code",
   "execution_count": 52,
   "id": "f86507e6-a9ce-4158-8cb0-36abbf162178",
   "metadata": {},
   "outputs": [
    {
     "data": {
      "text/plain": [
       "''"
      ]
     },
     "execution_count": 52,
     "metadata": {},
     "output_type": "execute_result"
    }
   ],
   "source": [
    "name[-1:-12]"
   ]
  },
  {
   "cell_type": "code",
   "execution_count": 60,
   "id": "513bba63-4f77-4a16-88b8-a90a252db788",
   "metadata": {},
   "outputs": [
    {
     "data": {
      "text/plain": [
       "'tnawaS daniN'"
      ]
     },
     "execution_count": 60,
     "metadata": {},
     "output_type": "execute_result"
    }
   ],
   "source": [
    "name[15::-1]"
   ]
  },
  {
   "cell_type": "code",
   "execution_count": null,
   "id": "19bbeef8-c325-475e-9bd3-331ba77f1984",
   "metadata": {},
   "outputs": [],
   "source": []
  }
 ],
 "metadata": {
  "kernelspec": {
   "display_name": "Python 3 (ipykernel)",
   "language": "python",
   "name": "python3"
  },
  "language_info": {
   "codemirror_mode": {
    "name": "ipython",
    "version": 3
   },
   "file_extension": ".py",
   "mimetype": "text/x-python",
   "name": "python",
   "nbconvert_exporter": "python",
   "pygments_lexer": "ipython3",
   "version": "3.12.4"
  }
 },
 "nbformat": 4,
 "nbformat_minor": 5
}
