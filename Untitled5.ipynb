{
 "cells": [
  {
   "cell_type": "code",
   "execution_count": 5,
   "id": "46555a44-6345-45fe-baf1-4c27ebad27a2",
   "metadata": {},
   "outputs": [],
   "source": [
    "name = \"Ninad Sawant\""
   ]
  },
  {
   "cell_type": "code",
   "execution_count": 8,
   "id": "dd45719e-ac30-4a77-a2a4-c4b88530fc2b",
   "metadata": {},
   "outputs": [
    {
     "data": {
      "text/plain": [
       "'Ninad Sawant'"
      ]
     },
     "execution_count": 8,
     "metadata": {},
     "output_type": "execute_result"
    }
   ],
   "source": [
    "name"
   ]
  },
  {
   "cell_type": "code",
   "execution_count": 10,
   "id": "1db6aeb3-0512-4b3f-80b4-52196dc2dc87",
   "metadata": {},
   "outputs": [
    {
     "data": {
      "text/plain": [
       "'S'"
      ]
     },
     "execution_count": 10,
     "metadata": {},
     "output_type": "execute_result"
    }
   ],
   "source": [
    "name[6]"
   ]
  },
  {
   "cell_type": "code",
   "execution_count": 14,
   "id": "aec3864b-d349-46ac-928c-d308e27420b9",
   "metadata": {},
   "outputs": [
    {
     "data": {
      "text/plain": [
       "''"
      ]
     },
     "execution_count": 14,
     "metadata": {},
     "output_type": "execute_result"
    }
   ],
   "source": [
    "name[6:-1:-2]"
   ]
  },
  {
   "cell_type": "code",
   "execution_count": 16,
   "id": "8a061888-3b76-45bb-8550-db67e34b5275",
   "metadata": {},
   "outputs": [],
   "source": [
    "#slicing operation"
   ]
  },
  {
   "cell_type": "code",
   "execution_count": 18,
   "id": "787016a9-3246-4f15-8fea-149efd99a480",
   "metadata": {},
   "outputs": [
    {
     "data": {
      "text/plain": [
       "''"
      ]
     },
     "execution_count": 18,
     "metadata": {},
     "output_type": "execute_result"
    }
   ],
   "source": [
    "name[6:-1:-2]"
   ]
  },
  {
   "cell_type": "code",
   "execution_count": 37,
   "id": "8b779edf-6591-4e09-b3da-6cdd3635121d",
   "metadata": {},
   "outputs": [
    {
     "data": {
      "text/plain": [
       "'S da'"
      ]
     },
     "execution_count": 37,
     "metadata": {},
     "output_type": "execute_result"
    }
   ],
   "source": [
    "name[-6:2:-1]"
   ]
  },
  {
   "cell_type": "code",
   "execution_count": 47,
   "id": "e3f9f2d0-95aa-4bb0-b171-d40e072822fb",
   "metadata": {},
   "outputs": [
    {
     "data": {
      "text/plain": [
       "'Sawa'"
      ]
     },
     "execution_count": 47,
     "metadata": {},
     "output_type": "execute_result"
    }
   ],
   "source": [
    "name[6:-2]"
   ]
  },
  {
   "cell_type": "code",
   "execution_count": 49,
   "id": "b279a6c9-3cb2-4f7b-be2c-882582bf8ec0",
   "metadata": {},
   "outputs": [
    {
     "data": {
      "text/plain": [
       "'d Sawan'"
      ]
     },
     "execution_count": 49,
     "metadata": {},
     "output_type": "execute_result"
    }
   ],
   "source": [
    "name[-8:11]"
   ]
  },
  {
   "cell_type": "code",
   "execution_count": 51,
   "id": "8689e954-ab74-474f-965c-8bafc170089e",
   "metadata": {},
   "outputs": [
    {
     "data": {
      "text/plain": [
       "''"
      ]
     },
     "execution_count": 51,
     "metadata": {},
     "output_type": "execute_result"
    }
   ],
   "source": [
    "name[1:11:-1]"
   ]
  },
  {
   "cell_type": "code",
   "execution_count": 65,
   "id": "b4388f7e-16e9-4dc5-9105-f15933b18097",
   "metadata": {},
   "outputs": [
    {
     "data": {
      "text/plain": [
       "''"
      ]
     },
     "execution_count": 65,
     "metadata": {},
     "output_type": "execute_result"
    }
   ],
   "source": [
    "name[10:-3:1]"
   ]
  },
  {
   "cell_type": "code",
   "execution_count": 55,
   "id": "c4153f46-91f5-4bae-a7e0-e3c4a54d598f",
   "metadata": {},
   "outputs": [
    {
     "data": {
      "text/plain": [
       "'d Sa'"
      ]
     },
     "execution_count": 55,
     "metadata": {},
     "output_type": "execute_result"
    }
   ],
   "source": [
    "\n",
    "name[-8:8]"
   ]
  },
  {
   "cell_type": "code",
   "execution_count": 57,
   "id": "aeb44abb-a780-41cc-b712-be6df01a3c7f",
   "metadata": {},
   "outputs": [
    {
     "data": {
      "text/plain": [
       "''"
      ]
     },
     "execution_count": 57,
     "metadata": {},
     "output_type": "execute_result"
    }
   ],
   "source": [
    "name[-9:0:1]"
   ]
  },
  {
   "cell_type": "code",
   "execution_count": 59,
   "id": "ac027d45-5d91-4c35-9c9c-44a20e6ea9ce",
   "metadata": {},
   "outputs": [
    {
     "data": {
      "text/plain": [
       "'tw n'"
      ]
     },
     "execution_count": 59,
     "metadata": {},
     "output_type": "execute_result"
    }
   ],
   "source": [
    "name[13:-14:-3]"
   ]
  },
  {
   "cell_type": "code",
   "execution_count": 63,
   "id": "f0b76144-6d98-4c0f-aaad-8c5cc8754889",
   "metadata": {},
   "outputs": [
    {
     "data": {
      "text/plain": [
       "'tnawaS daniN'"
      ]
     },
     "execution_count": 63,
     "metadata": {},
     "output_type": "execute_result"
    }
   ],
   "source": [
    "name[-1:-14:-1]"
   ]
  },
  {
   "cell_type": "code",
   "execution_count": 80,
   "id": "c8104c83-bf02-49c9-bffc-60fe18b92e4a",
   "metadata": {},
   "outputs": [
    {
     "data": {
      "text/plain": [
       "'tnawaS daniN'"
      ]
     },
     "execution_count": 80,
     "metadata": {},
     "output_type": "execute_result"
    }
   ],
   "source": [
    "name[-1::-1]"
   ]
  },
  {
   "cell_type": "code",
   "execution_count": 84,
   "id": "ca69d6a7-a144-4f7a-b213-d8014bbbe405",
   "metadata": {},
   "outputs": [
    {
     "data": {
      "text/plain": [
       "'Ninad Sawant'"
      ]
     },
     "execution_count": 84,
     "metadata": {},
     "output_type": "execute_result"
    }
   ],
   "source": [
    "name[0:14]"
   ]
  },
  {
   "cell_type": "code",
   "execution_count": 86,
   "id": "ee814691-1b1c-4efa-892a-408fec64697b",
   "metadata": {},
   "outputs": [
    {
     "data": {
      "text/plain": [
       "'tnawaS daniN'"
      ]
     },
     "execution_count": 86,
     "metadata": {},
     "output_type": "execute_result"
    }
   ],
   "source": [
    "name[::-1]"
   ]
  },
  {
   "cell_type": "code",
   "execution_count": 98,
   "id": "8a690e91-41d9-4779-a1db-9f90f5276a65",
   "metadata": {},
   "outputs": [
    {
     "data": {
      "text/plain": [
       "'name+15111709'"
      ]
     },
     "execution_count": 98,
     "metadata": {},
     "output_type": "execute_result"
    }
   ],
   "source": [
    "name+'1709'"
   ]
  },
  {
   "cell_type": "code",
   "execution_count": 100,
   "id": "2d2c7c3e-0492-446e-a4c7-a62095bbab4f",
   "metadata": {},
   "outputs": [],
   "source": [
    "name = \"Ninad Sawant\""
   ]
  },
  {
   "cell_type": "code",
   "execution_count": 102,
   "id": "c0a95f54-ed09-418b-8dec-c5e8281c7cc9",
   "metadata": {},
   "outputs": [
    {
     "data": {
      "text/plain": [
       "'Ninad Sawant1709'"
      ]
     },
     "execution_count": 102,
     "metadata": {},
     "output_type": "execute_result"
    }
   ],
   "source": [
    "name+'1709'"
   ]
  },
  {
   "cell_type": "code",
   "execution_count": 104,
   "id": "f240700a-0275-41b0-94a4-c3a2ab818f3e",
   "metadata": {},
   "outputs": [
    {
     "data": {
      "text/plain": [
       "'Ninad Sawant1709'"
      ]
     },
     "execution_count": 104,
     "metadata": {},
     "output_type": "execute_result"
    }
   ],
   "source": [
    "name+str(1709)"
   ]
  },
  {
   "cell_type": "code",
   "execution_count": 106,
   "id": "dc505c99-417e-442f-b802-7e82534dc0dd",
   "metadata": {},
   "outputs": [],
   "source": [
    "#find the length of name"
   ]
  },
  {
   "cell_type": "code",
   "execution_count": 108,
   "id": "838dcbd3-fb2e-40fc-b333-b8636c2dda7b",
   "metadata": {},
   "outputs": [
    {
     "data": {
      "text/plain": [
       "'Ninad Sawant'"
      ]
     },
     "execution_count": 108,
     "metadata": {},
     "output_type": "execute_result"
    }
   ],
   "source": [
    "name"
   ]
  },
  {
   "cell_type": "code",
   "execution_count": 112,
   "id": "b58c8fb1-8cc4-4e00-9609-f527fd2bd0c8",
   "metadata": {},
   "outputs": [
    {
     "ename": "NameError",
     "evalue": "name 'length' is not defined",
     "output_type": "error",
     "traceback": [
      "\u001b[0;31m---------------------------------------------------------------------------\u001b[0m",
      "\u001b[0;31mNameError\u001b[0m                                 Traceback (most recent call last)",
      "Cell \u001b[0;32mIn[112], line 1\u001b[0m\n\u001b[0;32m----> 1\u001b[0m name\u001b[38;5;241m+\u001b[39mlength\n",
      "\u001b[0;31mNameError\u001b[0m: name 'length' is not defined"
     ]
    }
   ],
   "source": [
    "name+length"
   ]
  },
  {
   "cell_type": "code",
   "execution_count": null,
   "id": "050cfb28-7aef-4d86-9704-2716c196753c",
   "metadata": {},
   "outputs": [],
   "source": []
  }
 ],
 "metadata": {
  "kernelspec": {
   "display_name": "Python 3 (ipykernel)",
   "language": "python",
   "name": "python3"
  },
  "language_info": {
   "codemirror_mode": {
    "name": "ipython",
    "version": 3
   },
   "file_extension": ".py",
   "mimetype": "text/x-python",
   "name": "python",
   "nbconvert_exporter": "python",
   "pygments_lexer": "ipython3",
   "version": "3.12.4"
  }
 },
 "nbformat": 4,
 "nbformat_minor": 5
}
