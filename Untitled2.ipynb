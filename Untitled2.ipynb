{
 "cells": [
  {
   "cell_type": "code",
   "execution_count": 3,
   "id": "721e2a8b-ce8c-43df-902b-3e3b7e5ac727",
   "metadata": {},
   "outputs": [],
   "source": [
    "name = \"Ninad\""
   ]
  },
  {
   "cell_type": "markdown",
   "id": "274d6b31-1fba-49c9-96c6-adba9f7e33de",
   "metadata": {},
   "source": [
    "name"
   ]
  },
  {
   "cell_type": "code",
   "execution_count": null,
   "id": "fe1c130b-4827-4ff5-9468-502ef3892913",
   "metadata": {},
   "outputs": [],
   "source": [
    "type(a)"
   ]
  },
  {
   "cell_type": "code",
   "execution_count": 9,
   "id": "e4cb028e-bd8e-4a52-ace2-2e26de143cf4",
   "metadata": {},
   "outputs": [],
   "source": [
    "a=7543.4354"
   ]
  },
  {
   "cell_type": "code",
   "execution_count": 11,
   "id": "a4ead3ea-c950-40d4-b922-e95ebfa1397e",
   "metadata": {},
   "outputs": [
    {
     "data": {
      "text/plain": [
       "float"
      ]
     },
     "execution_count": 11,
     "metadata": {},
     "output_type": "execute_result"
    }
   ],
   "source": [
    "type(a)"
   ]
  },
  {
   "cell_type": "code",
   "execution_count": 13,
   "id": "cede6be3-79e1-43ea-85dc-cd8b21001b2d",
   "metadata": {},
   "outputs": [
    {
     "data": {
      "text/plain": [
       "7543.4354"
      ]
     },
     "execution_count": 13,
     "metadata": {},
     "output_type": "execute_result"
    }
   ],
   "source": [
    "a"
   ]
  },
  {
   "cell_type": "code",
   "execution_count": 15,
   "id": "a4daad02-3baa-4c52-8c5e-7f7b1adbd7f6",
   "metadata": {},
   "outputs": [
    {
     "data": {
      "text/plain": [
       "7543.4354"
      ]
     },
     "execution_count": 15,
     "metadata": {},
     "output_type": "execute_result"
    }
   ],
   "source": [
    "a"
   ]
  },
  {
   "cell_type": "code",
   "execution_count": 23,
   "id": "9dfd8996-6c48-4d00-a0cb-3486ffd07ca5",
   "metadata": {},
   "outputs": [
    {
     "data": {
      "text/plain": [
       "56903417.63397317"
      ]
     },
     "execution_count": 23,
     "metadata": {},
     "output_type": "execute_result"
    }
   ],
   "source": [
    "a*a "
   ]
  },
  {
   "cell_type": "code",
   "execution_count": 25,
   "id": "a65c9a58-23b0-4b87-bbdb-427122cb52e0",
   "metadata": {},
   "outputs": [
    {
     "data": {
      "text/plain": [
       "1.0"
      ]
     },
     "execution_count": 25,
     "metadata": {},
     "output_type": "execute_result"
    }
   ],
   "source": [
    "a/a"
   ]
  },
  {
   "cell_type": "code",
   "execution_count": 27,
   "id": "de0b3c5e-2aeb-47d2-ad2d-1a6e21d6283d",
   "metadata": {},
   "outputs": [],
   "source": [
    "a=a"
   ]
  },
  {
   "cell_type": "code",
   "execution_count": 29,
   "id": "5d4f36a9-46d0-4544-abbf-f06088f39a03",
   "metadata": {},
   "outputs": [
    {
     "data": {
      "text/plain": [
       "15086.8708"
      ]
     },
     "execution_count": 29,
     "metadata": {},
     "output_type": "execute_result"
    }
   ],
   "source": [
    "a+a"
   ]
  },
  {
   "cell_type": "code",
   "execution_count": 31,
   "id": "267f2ed6-6fd9-4322-9662-aa6b90ce3c46",
   "metadata": {},
   "outputs": [
    {
     "data": {
      "text/plain": [
       "1"
      ]
     },
     "execution_count": 31,
     "metadata": {},
     "output_type": "execute_result"
    }
   ],
   "source": [
    "True-False"
   ]
  },
  {
   "cell_type": "code",
   "execution_count": 33,
   "id": "37bac284-4f9f-4731-93fc-2d618f2877ff",
   "metadata": {},
   "outputs": [],
   "source": [
    "a=True"
   ]
  },
  {
   "cell_type": "code",
   "execution_count": 36,
   "id": "333db6e0-db5c-45ef-9aa8-878c1868e3b8",
   "metadata": {},
   "outputs": [
    {
     "data": {
      "text/plain": [
       "True"
      ]
     },
     "execution_count": 36,
     "metadata": {},
     "output_type": "execute_result"
    }
   ],
   "source": [
    "a"
   ]
  },
  {
   "cell_type": "code",
   "execution_count": 38,
   "id": "b6c12c2e-5f3e-49dd-9d76-181e3ff4e9ff",
   "metadata": {},
   "outputs": [
    {
     "data": {
      "text/plain": [
       "bool"
      ]
     },
     "execution_count": 38,
     "metadata": {},
     "output_type": "execute_result"
    }
   ],
   "source": [
    "type(a)"
   ]
  },
  {
   "cell_type": "code",
   "execution_count": 40,
   "id": "08f5c14a-dcdf-4eb2-bcfc-956bc0df0477",
   "metadata": {},
   "outputs": [
    {
     "data": {
      "text/plain": [
       "-1"
      ]
     },
     "execution_count": 40,
     "metadata": {},
     "output_type": "execute_result"
    }
   ],
   "source": [
    "False-True"
   ]
  },
  {
   "cell_type": "code",
   "execution_count": 42,
   "id": "e0c2a99d-0c17-4df5-bcad-bd524472a14f",
   "metadata": {},
   "outputs": [
    {
     "ename": "ZeroDivisionError",
     "evalue": "division by zero",
     "output_type": "error",
     "traceback": [
      "\u001b[0;31m---------------------------------------------------------------------------\u001b[0m",
      "\u001b[0;31mZeroDivisionError\u001b[0m                         Traceback (most recent call last)",
      "Cell \u001b[0;32mIn[42], line 1\u001b[0m\n\u001b[0;32m----> 1\u001b[0m \u001b[38;5;28;01mTrue\u001b[39;00m\u001b[38;5;241m/\u001b[39m\u001b[38;5;28;01mFalse\u001b[39;00m\n",
      "\u001b[0;31mZeroDivisionError\u001b[0m: division by zero"
     ]
    }
   ],
   "source": [
    "True/False"
   ]
  },
  {
   "cell_type": "code",
   "execution_count": null,
   "id": "9d17e419-bac4-492d-8c97-3685e45c9e05",
   "metadata": {},
   "outputs": [],
   "source": []
  }
 ],
 "metadata": {
  "kernelspec": {
   "display_name": "Python 3 (ipykernel)",
   "language": "python",
   "name": "python3"
  },
  "language_info": {
   "codemirror_mode": {
    "name": "ipython",
    "version": 3
   },
   "file_extension": ".py",
   "mimetype": "text/x-python",
   "name": "python",
   "nbconvert_exporter": "python",
   "pygments_lexer": "ipython3",
   "version": "3.12.4"
  }
 },
 "nbformat": 4,
 "nbformat_minor": 5
}
