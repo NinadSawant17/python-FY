{
 "cells": [
  {
   "cell_type": "code",
   "execution_count": 1,
   "id": "a9daa350-d158-44bf-9258-b3c53fb10269",
   "metadata": {},
   "outputs": [],
   "source": [
    "name=\"Ninad Sawant\""
   ]
  },
  {
   "cell_type": "code",
   "execution_count": null,
   "id": "8d5ac58b-494a-4d83-af4f-0fe2f1bb1ec4",
   "metadata": {},
   "outputs": [],
   "source": []
  },
  {
   "cell_type": "code",
   "execution_count": 4,
   "id": "476fa5d7-adf6-4f1e-900c-efdfb7958cc4",
   "metadata": {},
   "outputs": [
    {
     "data": {
      "text/plain": [
       "'Ninad Sawant'"
      ]
     },
     "execution_count": 4,
     "metadata": {},
     "output_type": "execute_result"
    }
   ],
   "source": [
    "name"
   ]
  },
  {
   "cell_type": "code",
   "execution_count": 6,
   "id": "b2cabc4b-da6f-4ff3-9333-322a6ef2ade4",
   "metadata": {},
   "outputs": [
    {
     "data": {
      "text/plain": [
       "12"
      ]
     },
     "execution_count": 6,
     "metadata": {},
     "output_type": "execute_result"
    }
   ],
   "source": [
    "#find the lenght of name\n",
    "len(name)"
   ]
  },
  {
   "cell_type": "code",
   "execution_count": 21,
   "id": "a7cce6f3-9d68-48e8-b67e-2272c267f885",
   "metadata": {},
   "outputs": [
    {
     "data": {
      "text/plain": [
       "'Ninad SawantNinad SawantNinad SawantNinad Sawant'"
      ]
     },
     "execution_count": 21,
     "metadata": {},
     "output_type": "execute_result"
    }
   ],
   "source": [
    "name*4"
   ]
  },
  {
   "cell_type": "markdown",
   "id": "acb4640a-230d-4170-a98a-c600eae2c167",
   "metadata": {},
   "source": []
  },
  {
   "cell_type": "code",
   "execution_count": 25,
   "id": "b244fc6c-8c73-4bb7-8459-5d3416a9b1b3",
   "metadata": {},
   "outputs": [
    {
     "data": {
      "text/plain": [
       "1"
      ]
     },
     "execution_count": 25,
     "metadata": {},
     "output_type": "execute_result"
    }
   ],
   "source": [
    "name.count('i')"
   ]
  },
  {
   "cell_type": "code",
   "execution_count": 36,
   "id": "d67cee6b-cd1f-4f7d-87fa-405f8567d5b8",
   "metadata": {},
   "outputs": [
    {
     "data": {
      "text/plain": [
       "['N', 'nad Sawant']"
      ]
     },
     "execution_count": 36,
     "metadata": {},
     "output_type": "execute_result"
    }
   ],
   "source": [
    "name.split('i')"
   ]
  },
  {
   "cell_type": "code",
   "execution_count": 38,
   "id": "c41f7fb2-e844-433a-ad1b-9577ee33b8cc",
   "metadata": {},
   "outputs": [
    {
     "data": {
      "text/plain": [
       "list"
      ]
     },
     "execution_count": 38,
     "metadata": {},
     "output_type": "execute_result"
    }
   ],
   "source": [
    "type(name.split('i'))"
   ]
  },
  {
   "cell_type": "code",
   "execution_count": 40,
   "id": "42ef8fc9-db5b-42fe-a89f-7e91780555df",
   "metadata": {},
   "outputs": [],
   "source": [
    "name=\"Knowing how to write a paragraph is incredibly important. It’s a basic aspect of writing, and it is something that everyone should know how to do. There is a specific structure that you have to follow when you’re writing a paragraph. This structure helps make it easier for the reader to understand what is going on. Through writing good paragraphs\" "
   ]
  },
  {
   "cell_type": "code",
   "execution_count": 42,
   "id": "18102772-c791-4fc0-8e4e-1ef80596b762",
   "metadata": {},
   "outputs": [
    {
     "data": {
      "text/plain": [
       "'Knowing how to write a paragraph is incredibly important. It’s a basic aspect of writing, and it is something that everyone should know how to do. There is a specific structure that you have to follow when you’re writing a paragraph. This structure helps make it easier for the reader to understand what is going on. Through writing good paragraphs'"
      ]
     },
     "execution_count": 42,
     "metadata": {},
     "output_type": "execute_result"
    }
   ],
   "source": [
    "name"
   ]
  },
  {
   "cell_type": "code",
   "execution_count": 66,
   "id": "1070f184-c510-4715-83de-2b5354c182d3",
   "metadata": {},
   "outputs": [
    {
     "ename": "SyntaxError",
     "evalue": "unmatched ')' (4268508934.py, line 1)",
     "output_type": "error",
     "traceback": [
      "\u001b[0;36m  Cell \u001b[0;32mIn[66], line 1\u001b[0;36m\u001b[0m\n\u001b[0;31m    name.split( ))\u001b[0m\n\u001b[0m                 ^\u001b[0m\n\u001b[0;31mSyntaxError\u001b[0m\u001b[0;31m:\u001b[0m unmatched ')'\n"
     ]
    }
   ],
   "source": [
    "name.split( ))"
   ]
  },
  {
   "cell_type": "code",
   "execution_count": 64,
   "id": "6c5c0026-f0be-4974-8ef5-a066ea2862fc",
   "metadata": {},
   "outputs": [
    {
     "ename": "SyntaxError",
     "evalue": "unmatched ']' (18356055.py, line 1)",
     "output_type": "error",
     "traceback": [
      "\u001b[0;36m  Cell \u001b[0;32mIn[64], line 1\u001b[0;36m\u001b[0m\n\u001b[0;31m    name.split['Knowing how to write a paragraph is incredibly important. It’s a basic aspect of writing, and it is something that everyone should know how to do. There is a specific structure that you have to follow when you’re writing a paragraph. This structure helps make it easier for the reader to understand what is going on. Through writing good paragraphs']]\u001b[0m\n\u001b[0m                                                                                                                                                                                                                                                                                                                                                                              ^\u001b[0m\n\u001b[0;31mSyntaxError\u001b[0m\u001b[0;31m:\u001b[0m unmatched ']'\n"
     ]
    }
   ],
   "source": [
    "name.split['Knowing how to write a paragraph is incredibly important. It’s a basic aspect of writing, and it is something that everyone should know how to do. There is a specific structure that you have to follow when you’re writing a paragraph. This structure helps make it easier for the reader to understand what is going on. Through writing good paragraphs']]"
   ]
  },
  {
   "cell_type": "code",
   "execution_count": 68,
   "id": "5f8c6837-a105-49e6-a718-3f7eab09f3e1",
   "metadata": {},
   "outputs": [
    {
     "data": {
      "text/plain": [
       "'Knowing how to write a paragraph is incredibly important. It’s a basic aspect of writing, and it is something that everyone should know how to do. There is a specific structure that you have to follow when you’re writing a paragraph. This structure helps make it easier for the reader to understand what is going on. Through writing good paragraphs'"
      ]
     },
     "execution_count": 68,
     "metadata": {},
     "output_type": "execute_result"
    }
   ],
   "source": [
    "name"
   ]
  },
  {
   "cell_type": "markdown",
   "id": "5ae78af4-0204-4ce9-a4bb-2904c4ba0abe",
   "metadata": {},
   "source": []
  },
  {
   "cell_type": "code",
   "execution_count": 72,
   "id": "266f49ad-813b-4d1c-afcc-3ffccd6f38d0",
   "metadata": {},
   "outputs": [
    {
     "data": {
      "text/plain": [
       "['Knowing',\n",
       " 'how',\n",
       " 'to',\n",
       " 'write',\n",
       " 'a',\n",
       " 'paragraph',\n",
       " 'is',\n",
       " 'incredibly',\n",
       " 'important.',\n",
       " 'It’s',\n",
       " 'a',\n",
       " 'basic',\n",
       " 'aspect',\n",
       " 'of',\n",
       " 'writing,',\n",
       " 'and',\n",
       " 'it',\n",
       " 'is',\n",
       " 'something',\n",
       " 'that',\n",
       " 'everyone',\n",
       " 'should',\n",
       " 'know',\n",
       " 'how',\n",
       " 'to',\n",
       " 'do.',\n",
       " 'There',\n",
       " 'is',\n",
       " 'a',\n",
       " 'specific',\n",
       " 'structure',\n",
       " 'that',\n",
       " 'you',\n",
       " 'have',\n",
       " 'to',\n",
       " 'follow',\n",
       " 'when',\n",
       " 'you’re',\n",
       " 'writing',\n",
       " 'a',\n",
       " 'paragraph.',\n",
       " 'This',\n",
       " 'structure',\n",
       " 'helps',\n",
       " 'make',\n",
       " 'it',\n",
       " 'easier',\n",
       " 'for',\n",
       " 'the',\n",
       " 'reader',\n",
       " 'to',\n",
       " 'understand',\n",
       " 'what',\n",
       " 'is',\n",
       " 'going',\n",
       " 'on.',\n",
       " 'Through',\n",
       " 'writing',\n",
       " 'good',\n",
       " 'paragraphs']"
      ]
     },
     "execution_count": 72,
     "metadata": {},
     "output_type": "execute_result"
    }
   ],
   "source": [
    "name.split(' ')"
   ]
  },
  {
   "cell_type": "code",
   "execution_count": null,
   "id": "2a142a17-c685-441f-9314-295b28835ec4",
   "metadata": {},
   "outputs": [],
   "source": []
  }
 ],
 "metadata": {
  "kernelspec": {
   "display_name": "Python 3 (ipykernel)",
   "language": "python",
   "name": "python3"
  },
  "language_info": {
   "codemirror_mode": {
    "name": "ipython",
    "version": 3
   },
   "file_extension": ".py",
   "mimetype": "text/x-python",
   "name": "python",
   "nbconvert_exporter": "python",
   "pygments_lexer": "ipython3",
   "version": "3.12.4"
  }
 },
 "nbformat": 4,
 "nbformat_minor": 5
}
